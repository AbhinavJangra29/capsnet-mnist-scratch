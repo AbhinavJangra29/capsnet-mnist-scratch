{
  "nbformat": 4,
  "nbformat_minor": 0,
  "metadata": {
    "colab": {
      "provenance": [],
      "gpuType": "T4"
    },
    "kernelspec": {
      "name": "python3",
      "display_name": "Python 3"
    },
    "language_info": {
      "name": "python"
    },
    "accelerator": "GPU"
  },
  "cells": [
    {
      "cell_type": "markdown",
      "source": [
        "#importing data and transforming"
      ],
      "metadata": {
        "id": "qJAhowJ4iY-R"
      }
    },
    {
      "cell_type": "code",
      "execution_count": 1,
      "metadata": {
        "id": "9MunNWljiR2o"
      },
      "outputs": [],
      "source": [
        "import torch\n",
        "from torchvision import datasets\n",
        "import torchvision.transforms as transforms"
      ]
    },
    {
      "cell_type": "code",
      "source": [
        "num_workers=0#no parallelism on multiple processors\n",
        "batch_size=20\n",
        "transform=transforms.ToTensor()\n",
        "train_data=datasets.MNIST(\n",
        "    root='data',\n",
        "    train=True,\n",
        "    download=True,\n",
        "    transform=transform\n",
        ")\n",
        "test_data=datasets.MNIST(\n",
        "    root='data',\n",
        "    train=False,\n",
        "    download=True,\n",
        "    transform=transform\n",
        ")\n",
        "train_loader=torch.utils.data.DataLoader(\n",
        "    train_data,\n",
        "    batch_size=batch_size,\n",
        "    num_workers=num_workers\n",
        "\n",
        ")\n",
        "test_loader=torch.utils.data.DataLoader(\n",
        "    test_data,\n",
        "    batch_size=batch_size,\n",
        "    num_workers=num_workers\n",
        ")"
      ],
      "metadata": {
        "colab": {
          "base_uri": "https://localhost:8080/"
        },
        "id": "8E4aSl1FipTw",
        "outputId": "78bef6e8-4d77-4a66-e140-5ede24b56603"
      },
      "execution_count": 2,
      "outputs": [
        {
          "output_type": "stream",
          "name": "stdout",
          "text": [
            "Downloading http://yann.lecun.com/exdb/mnist/train-images-idx3-ubyte.gz\n",
            "Downloading http://yann.lecun.com/exdb/mnist/train-images-idx3-ubyte.gz to data/MNIST/raw/train-images-idx3-ubyte.gz\n"
          ]
        },
        {
          "output_type": "stream",
          "name": "stderr",
          "text": [
            "100%|██████████| 9912422/9912422 [00:00<00:00, 251810712.11it/s]\n"
          ]
        },
        {
          "output_type": "stream",
          "name": "stdout",
          "text": [
            "Extracting data/MNIST/raw/train-images-idx3-ubyte.gz to data/MNIST/raw\n",
            "\n",
            "Downloading http://yann.lecun.com/exdb/mnist/train-labels-idx1-ubyte.gz\n",
            "Downloading http://yann.lecun.com/exdb/mnist/train-labels-idx1-ubyte.gz to data/MNIST/raw/train-labels-idx1-ubyte.gz\n"
          ]
        },
        {
          "output_type": "stream",
          "name": "stderr",
          "text": [
            "100%|██████████| 28881/28881 [00:00<00:00, 146122670.48it/s]"
          ]
        },
        {
          "output_type": "stream",
          "name": "stdout",
          "text": [
            "Extracting data/MNIST/raw/train-labels-idx1-ubyte.gz to data/MNIST/raw\n",
            "\n",
            "Downloading http://yann.lecun.com/exdb/mnist/t10k-images-idx3-ubyte.gz\n"
          ]
        },
        {
          "output_type": "stream",
          "name": "stderr",
          "text": [
            "\n"
          ]
        },
        {
          "output_type": "stream",
          "name": "stdout",
          "text": [
            "Downloading http://yann.lecun.com/exdb/mnist/t10k-images-idx3-ubyte.gz to data/MNIST/raw/t10k-images-idx3-ubyte.gz\n"
          ]
        },
        {
          "output_type": "stream",
          "name": "stderr",
          "text": [
            "100%|██████████| 1648877/1648877 [00:00<00:00, 71069985.89it/s]\n"
          ]
        },
        {
          "output_type": "stream",
          "name": "stdout",
          "text": [
            "Extracting data/MNIST/raw/t10k-images-idx3-ubyte.gz to data/MNIST/raw\n",
            "\n",
            "Downloading http://yann.lecun.com/exdb/mnist/t10k-labels-idx1-ubyte.gz\n",
            "Downloading http://yann.lecun.com/exdb/mnist/t10k-labels-idx1-ubyte.gz to data/MNIST/raw/t10k-labels-idx1-ubyte.gz\n"
          ]
        },
        {
          "output_type": "stream",
          "name": "stderr",
          "text": [
            "100%|██████████| 4542/4542 [00:00<00:00, 23548243.22it/s]"
          ]
        },
        {
          "output_type": "stream",
          "name": "stdout",
          "text": [
            "Extracting data/MNIST/raw/t10k-labels-idx1-ubyte.gz to data/MNIST/raw\n",
            "\n"
          ]
        },
        {
          "output_type": "stream",
          "name": "stderr",
          "text": [
            "\n"
          ]
        }
      ]
    },
    {
      "cell_type": "markdown",
      "source": [
        "#1. The shared conv layer"
      ],
      "metadata": {
        "id": "XKj1lnQbkmii"
      }
    },
    {
      "cell_type": "code",
      "source": [
        "import torch.nn as nn\n",
        "import torch.nn.functional as F\n",
        "\n",
        "class convlayer(nn.Module):\n",
        "  def __init__(self,in_channels=1,out_channels=256):\n",
        "      super(convlayer,self).__init__()\n",
        "      self.conv=nn.Conv2d(in_channels,out_channels,kernel_size=9,stride=1,padding=0)\n",
        "\n",
        "  def forward(self,x):\n",
        "    output=F.relu(self.conv(x))\n",
        "    return output"
      ],
      "metadata": {
        "id": "0ipV7D-dkEfd"
      },
      "execution_count": 3,
      "outputs": []
    },
    {
      "cell_type": "markdown",
      "source": [
        "#reshape to convert the outputs to vectors"
      ],
      "metadata": {
        "id": "qmjtyEpirdYx"
      }
    },
    {
      "cell_type": "code",
      "source": [
        "class primarycapsule(nn.Module):\n",
        "  def __init__(self,num_capsules=8,in_channels=256,out_channels=32):\n",
        "    super(primarycapsule,self).__init__()\n",
        "    self.capsules=nn.ModuleList([\n",
        "        #capsule ka khudka filter jo ki learnable hai\n",
        "        nn.Conv2d(in_channels=in_channels,out_channels=out_channels,kernel_size=9\n",
        "                  ,stride=2,padding=0)\n",
        "        for _ in range(num_capsules)\n",
        "    ])\n",
        "\n",
        "  def forward(self,x):\n",
        "    #pass one batch at time\n",
        "    batch_size=x.size(0)\n",
        "    #reshape conv output to be (batch_size,vector_dim=1152,1)\n",
        "    u=[capsule(x).view(batch_size,32*6*6,1) for capsule in self.capsules]#basically ye line 1152 vector outputs banari hai from the conv output\n",
        "    #stack up output vectors ,u,one for each capsule\n",
        "    #jo har capsule ke filter se responses mile hai unko stack up krdenge\n",
        "    u=torch.cat(u,dim=-1)\n",
        "    #squash krlo to normalise\n",
        "    u_squash=self.squash(u)\n",
        "    return u_squash\n",
        "\n",
        "  def squash(self,input_tensor):\n",
        "    '''Squashes an input Tensor so it has a magnitude between 0-1.\n",
        "               param input_tensor: a stack of capsule inputs, s_j\n",
        "               return: a stack of normalized, capsule output vectors, v_j\n",
        "               '''\n",
        "    squared_norm = (input_tensor ** 2).sum(dim=-1, keepdim=True)\n",
        "    scale = squared_norm / (1 + squared_norm) # normalization coeff\n",
        "    output_tensor = scale * input_tensor / torch.sqrt(squared_norm)\n",
        "    return output_tensor\n",
        "\n",
        "\n"
      ],
      "metadata": {
        "id": "9yEoD01voxKA"
      },
      "execution_count": 4,
      "outputs": []
    },
    {
      "cell_type": "markdown",
      "source": [
        "#detail wala part"
      ],
      "metadata": {
        "id": "u2rBIuLAxooq"
      }
    },
    {
      "cell_type": "code",
      "source": [
        "\n",
        "def softmax(input_tensor,dim=1):\n",
        "  transposed_input=input_tensor.transpose(dim,len(input_tensor.size())-1)\n",
        "  softmaxed_output=F.softmax(transposed_input.contiguous().view(-1,transposed_input.size(-1)),dim=-1)\n",
        "  #untransposed result\n",
        "  return softmaxed_output.view(*transposed_input.size()).transpose(dim,len(input_tensor.size())-1)"
      ],
      "metadata": {
        "id": "mkAxa4XagViO"
      },
      "execution_count": 5,
      "outputs": []
    },
    {
      "cell_type": "markdown",
      "source": [
        "1.c_ij: These are the coupling coefficients obtained by applying softmax to the initial routing weights b_ij. Each entry c_ij[i, j] represents the probability that capsule i in the higher layer should be coupled to capsule j in the lower layer.\n",
        "\n",
        "2.u_hat: This is the input, which consists of the weighted capsule vectors W u. Each capsule in the lower layer has an associated vector of predictions, and these vectors are weighted by W, which is a learnable weight matrix. So u_hat represents the weighted predictions from the lower layer capsules for each capsule in the higher layer.(this is the stacked up tensor,basically complete vector space jisme vector of prediciotns hain)\n",
        "\n",
        "3.(c_ij * u_hat): This element-wise multiplication combines the coupling coefficients with the weighted predictions. Essentially, it's calculating the contribution of each capsule in the lower layer to each capsule in the higher layer.\n"
      ],
      "metadata": {
        "id": "u1RLH98se_kc"
      }
    },
    {
      "cell_type": "code",
      "source": [
        "#pichla paragraph is the backbone of dynamic routing\n",
        "#dynamic routing code\n",
        "#u_hat is the stacked up tensor\n",
        "#bij is the initial routing weight(basically initial routing probablity)\n",
        "#start me routing weight is set to 0,means higher layer capsules equal i/p recieve krenge initially.\n",
        "#This means that capsules in the higher layer initially receive equal contributions from capsules in the lower layer\n",
        "def dynamic_routing(b_ij,u_hat,squash,routing_iterations=3):\n",
        "\n",
        "  for iteration in range(routing_iterations):\n",
        "    #bij is initial routing cost coupling i and j capsules\n",
        "    c_ij=softmax(b_ij,dim=2)\n",
        "    #(weighted sum),u-hat = vector space of predictions, multiplied with the current routing weights\n",
        "    #jo agree krre honge vectors , unka weighted sum automatically zyada hi ayga\n",
        "    #You compute s_j based on these routing probabilities. s_j is essentially the sum of the contributions of the lower-layer capsules to capsule j.\n",
        "    s_j=(c_ij*u_hat).sum(dim=2,keepdim=True)\n",
        "    #squash krdo (normalise)\n",
        "    v_j=squash(s_j)\n",
        "    ##see ppt for best explanation\n",
        "    if iteration < routing_iterations -1:\n",
        "      #agreement between lower level and higher level capsule\n",
        "      #You calculate a_ij, which quantifies how well the predictions of the lower-layer capsules match the output of capsule j.\n",
        "      #we see the agreeing capule proba vectors in u_hat and v_j\n",
        "      a_ij=(u_hat*v_j).sum(dim=-1,keepdim=True)\n",
        "      #routing probablity weights ko update bhi krna hai,weighted sum ke equal hi increase hoga\n",
        "      b_ij=b_ij + a_ij\n",
        "\n",
        "    return v_j"
      ],
      "metadata": {
        "id": "vAedQzUExZKX"
      },
      "execution_count": 6,
      "outputs": []
    },
    {
      "cell_type": "markdown",
      "source": [
        "ab digit capsules banaynge, each capsule corresponding to a digit between 0 and 9"
      ],
      "metadata": {
        "id": "Y-qj4gnVndXj"
      }
    },
    {
      "cell_type": "code",
      "source": [
        "#total 10 capsule banenge, 1 for each digit\n",
        "class digitcaps(nn.Module):\n",
        "  def __init__(self,num_capsules=10,previous_layer_nodes=32*6*6,in_channels=8,out_channels=16):\n",
        "    super(digitcaps,self).__init__()\n",
        "    # setting class variables\n",
        "    self.num_capsules = num_capsules\n",
        "    self.previous_layer_nodes = previous_layer_nodes # vector input (dim=1152)\n",
        "    self.in_channels = in_channels # previous layer's number of capsules\n",
        "    #routing probablity basically contribution nikalra hai current capsule ka\n",
        "    #next capsule ke output me\n",
        "    #however the routing prob weights dont tell the capsule network how to transfer\n",
        "    #the input capsule vector to the output capsule vector\n",
        "    #this is done through this weight matrix\n",
        "    #this is learnable\n",
        "    self.W=nn.Parameter(torch.randn(num_capsules,previous_layer_nodes,in_channels,out_channels))\n",
        "\n",
        "  def forward(self, u):\n",
        "          '''Defines the feedforward behavior.\n",
        "            param u: the input; vectors from the previous PrimaryCaps layer\n",
        "            return: a set of normalized, capsule output vectors\n",
        "            '''\n",
        "\n",
        "          # adding batch_size dims and stacking all u vectors\n",
        "          u = u[None, :, :, None, :]\n",
        "          # 4D weight matrix\n",
        "          W = self.W[:, None, :, :, :]\n",
        "\n",
        "          # calculating u_hat = W*u\n",
        "          u_hat = torch.matmul(u, W)\n",
        "\n",
        "          # getting the correct size of b_ij\n",
        "          # setting them all to 0, initially\n",
        "          b_ij = torch.zeros(*u_hat.size())\n",
        "\n",
        "          # update coupling coefficients and calculate v_j\n",
        "          v_j = dynamic_routing(b_ij, u_hat, self.squash, routing_iterations=3)\n",
        "\n",
        "          return v_j # return final vector outputs\n",
        "\n",
        "  def squash(self, input_tensor):\n",
        "          '''Squashes an input Tensor so it has a magnitude between 0-1.\n",
        "            param input_tensor: a stack of capsule inputs, s_j\n",
        "            return: a stack of normalized, capsule output vectors, v_j\n",
        "            '''\n",
        "          # same squash function as before\n",
        "          squared_norm = (input_tensor ** 2).sum(dim=-1, keepdim=True)\n",
        "          scale = squared_norm / (1 + squared_norm) # normalization coeff\n",
        "          output_tensor = scale * input_tensor / torch.sqrt(squared_norm)\n",
        "          return output_tensor\n",
        "\n",
        "\n",
        "\n"
      ],
      "metadata": {
        "id": "zLfTQ4VQvjqg"
      },
      "execution_count": 7,
      "outputs": []
    },
    {
      "cell_type": "markdown",
      "source": [
        "Decoder-some fcls, we can train and test without decoder too"
      ],
      "metadata": {
        "id": "Ys4lysprYTPx"
      }
    },
    {
      "cell_type": "code",
      "source": [
        "#decoder basically reconstructs the image, it helps in better training process\n",
        "class decoder(nn.Module):\n",
        "  #input is the output from the digit caps layer, (it is a 10d vector)\n",
        "  #each dimension\n",
        "  def __init__(self,input_vector_length=16,input_capsules=10,hidden_dim=512):\n",
        "     '''Constructs an series of linear layers + activations.\n",
        "           param input_vector_length: dimension of input capsule vector, default value = 16\n",
        "           param input_capsules: number of capsules in previous layer, default value = 10\n",
        "           param hidden_dim: dimensions of hidden layers, default value = 512\n",
        "           '''\n",
        "     super(decoder,self).__init__()\n",
        "\n",
        "      #total incoming dimension(basically a tensor)\n",
        "     input_dim=input_vector_length*input_capsules\n",
        "\n",
        "      #fcls according to paper\n",
        "     self.linear_layers=nn.Sequential(\n",
        "         nn.Linear(input_dim,hidden_dim),\n",
        "         nn.ReLU(inplace=True),\n",
        "         nn.Linear(hidden_dim,hidden_dim*2),\n",
        "         nn.ReLU(inplace=True),\n",
        "         nn.Linear(hidden_dim*2,28*28),#28x28 image\n",
        "         nn.Sigmoid(),## sigmoid activation to get output pixel values in a range from 0-1\n",
        "      )\n",
        "  def forward(self,x):\n",
        "    #input lega x\n",
        "    #digit caps layer se incoming vector\n",
        "    #2 cheeze return krega\n",
        "    # first. the reconstructed image\n",
        "    #class scores-y\n",
        "\n",
        "    #square krne se we give emphasize the capsules that have strong feature represnetation\n",
        "    #square se kam repres krne wala or kam hojayga and zyada wala or zyda\n",
        "    #sum krke effective vector miljayga\n",
        "    #softmax leke corresponding prob\n",
        "    classes=(x**2).sum(dim=-1)**0.5\n",
        "    classes = F.softmax(classes, dim=-1)\n",
        "\n",
        "    #find the capsule with maximum probablity vector length\n",
        "    _,max_length_indices=classes.max(dim=1)\n",
        "\n",
        "    #creating a sparse matrix, to calculate class scores\n",
        "    sparse_matrix=torch.eye(10)\n",
        "    '''  example of sparse matrix with 10 classes.\n",
        "    tensor([[1., 0., 0., 0., 0., 0., 0., 0., 0., 0.],  # Class 0\n",
        "        [0., 1., 0., 0., 0., 0., 0., 0., 0., 0.],  # Class 1\n",
        "        [0., 0., 1., 0., 0., 0., 0., 0., 0., 0.],  # Class 2\n",
        "        [0., 0., 0., 1., 0., 0., 0., 0., 0., 0.],  # Class 3\n",
        "        [0., 0., 0., 0., 1., 0., 0., 0., 0., 0.],  # Class 4\n",
        "        [0., 0., 0., 0., 0., 1., 0., 0., 0., 0.],  # Class 5\n",
        "        [0., 0., 0., 0., 0., 0., 1., 0., 0., 0.],  # Class 6\n",
        "        [0., 0., 0., 0., 0., 0., 0., 1., 0., 0.],  # Class 7\n",
        "        [0., 0., 0., 0., 0., 0., 0., 0., 1., 0.],  # Class 8\n",
        "        [0., 0., 0., 0., 0., 0., 0., 0., 0., 1.]]) # Class 9\n",
        "\n",
        "\n",
        "    '''\n",
        "    #max_length_indices contains the index of capsule with maximum length\n",
        "    y=sparse_matrix.index_select(dim=0,index=max_length_indices.data)\n",
        "\n",
        "    #lets reconstruct the image(x is the input tensor ,y are the rows we picked up from corresponding max indices from sparse matrix)\n",
        "    x=x*y[:,:,None]\n",
        "    #flatten the image into a vector shape(batch_size,vector_dim)\n",
        "    flattened_x=x.contiguous().view(x.size(0),-1)\n",
        "    reconstructions=self.linear_layers(flattened_x)\n",
        "\n",
        "    return reconstructions,y\n",
        "\n",
        "\n",
        "\n",
        "\n",
        "\n",
        "\n"
      ],
      "metadata": {
        "id": "T7WNxzhWRKJA"
      },
      "execution_count": 8,
      "outputs": []
    },
    {
      "cell_type": "code",
      "source": [
        "tensor_2d = torch.tensor([[1, 2, 3], [4, 5, 6]])\n",
        "sum_2d = tensor_2d.sum(dim=0)  # Sum along the last dimension (columns)\n",
        "print(sum_2d)"
      ],
      "metadata": {
        "colab": {
          "base_uri": "https://localhost:8080/"
        },
        "id": "N_FSjKtEOzIv",
        "outputId": "322f8062-34d9-4fbf-b6c3-0a17fd49c4fb"
      },
      "execution_count": 9,
      "outputs": [
        {
          "output_type": "stream",
          "name": "stdout",
          "text": [
            "tensor([5, 7, 9])\n"
          ]
        }
      ]
    },
    {
      "cell_type": "markdown",
      "source": [
        "lets collect all the layers we have made"
      ],
      "metadata": {
        "id": "1Jr5GjrLWqMb"
      }
    },
    {
      "cell_type": "code",
      "source": [
        "class capsulenetwork(nn.Module):\n",
        "  def __init__(self):\n",
        "    super(capsulenetwork,self).__init__()\n",
        "    self.conv_layer=convlayer()#shared conv layer\n",
        "    self.primary_capsules=primarycapsule()\n",
        "    self.digit_capsules=digitcaps()\n",
        "    self.decoder=decoder()\n",
        "  def forward(self,images):\n",
        "    #the feedforward behaviour\n",
        "    primary_caps_output=self.primary_capsules(self.conv_layer(images))\n",
        "    caps_output=self.digit_capsules(primary_caps_output).squeeze().transpose(0,1)\n",
        "    reconstructions,y=self.decoder(caps_output)\n",
        "    return caps_output,reconstructions,y"
      ],
      "metadata": {
        "id": "dbHgPNlbUbIx"
      },
      "execution_count": 10,
      "outputs": []
    },
    {
      "cell_type": "code",
      "source": [
        "capsule_net=capsulenetwork()\n",
        "print(capsule_net)"
      ],
      "metadata": {
        "colab": {
          "base_uri": "https://localhost:8080/"
        },
        "id": "mBgkdG8MZm61",
        "outputId": "b1c1ee6f-bceb-4359-e057-7300eba67bbf"
      },
      "execution_count": 11,
      "outputs": [
        {
          "output_type": "stream",
          "name": "stdout",
          "text": [
            "capsulenetwork(\n",
            "  (conv_layer): convlayer(\n",
            "    (conv): Conv2d(1, 256, kernel_size=(9, 9), stride=(1, 1))\n",
            "  )\n",
            "  (primary_capsules): primarycapsule(\n",
            "    (capsules): ModuleList(\n",
            "      (0-7): 8 x Conv2d(256, 32, kernel_size=(9, 9), stride=(2, 2))\n",
            "    )\n",
            "  )\n",
            "  (digit_capsules): digitcaps()\n",
            "  (decoder): decoder(\n",
            "    (linear_layers): Sequential(\n",
            "      (0): Linear(in_features=160, out_features=512, bias=True)\n",
            "      (1): ReLU(inplace=True)\n",
            "      (2): Linear(in_features=512, out_features=1024, bias=True)\n",
            "      (3): ReLU(inplace=True)\n",
            "      (4): Linear(in_features=1024, out_features=784, bias=True)\n",
            "      (5): Sigmoid()\n",
            "    )\n",
            "  )\n",
            ")\n"
          ]
        }
      ]
    },
    {
      "cell_type": "code",
      "source": [
        "#capsnet is weighted comb of two type of losses\n",
        "#margin loss and reconstruction loss\n",
        "#rec loss=recons image-orig image\n",
        "#margin loss=(think of it as cross entropy based on length of output vectors coming from digit caps layer)\n"
      ],
      "metadata": {
        "id": "7oUTQkTHZvMp"
      },
      "execution_count": 12,
      "outputs": []
    },
    {
      "cell_type": "markdown",
      "source": [
        "![image.png](data:image/png;base64,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)![image.png]()"
      ],
      "metadata": {
        "id": "QJFpOyL5eK-s"
      }
    },
    {
      "cell_type": "code",
      "source": [
        "class capsuleloss(nn.Module):\n",
        "  def __init__(self):\n",
        "      super(capsuleloss,self).__init__()\n",
        "      self.reconstruction_loss=nn.MSELoss(reduction='sum')\n",
        "  def forward(self,x,labels,images,reconstructions):\n",
        "      batch_size=x.size(0)\n",
        "      #margin loss\n",
        "      # get magnitude of digit capsule vectors, v_c\n",
        "      v_c = torch.sqrt((x**2).sum(dim=2, keepdim=True))\n",
        "\n",
        "          # calculate \"correct\" and incorrect loss\n",
        "      left = F.relu(0.9 - v_c).view(batch_size, -1)\n",
        "      right = F.relu(v_c - 0.1).view(batch_size, -1)\n",
        "\n",
        "          # sum the losses, with a lambda = 0.5\n",
        "      margin_loss = labels * left + 0.5 * (1. - labels) * right\n",
        "      margin_loss = margin_loss.sum()\n",
        "\n",
        "          ##  calculate the reconstruction loss   ##\n",
        "      images = images.view(reconstructions.size()[0], -1)\n",
        "      reconstruction_loss = self.reconstruction_loss(reconstructions, images)\n",
        "\n",
        "          # return a weighted, summed loss, averaged over a batch size\n",
        "      return (margin_loss + 0.0005 * reconstruction_loss) / images.size(0)\n"
      ],
      "metadata": {
        "id": "QdSCOpHRcKLC"
      },
      "execution_count": 19,
      "outputs": []
    },
    {
      "cell_type": "markdown",
      "source": [
        "loss and training"
      ],
      "metadata": {
        "id": "YdJY3U8TgEzt"
      }
    },
    {
      "cell_type": "code",
      "source": [
        "import torch.optim as optim\n",
        "\n",
        "# custom loss\n",
        "criterion = capsuleloss()\n",
        "\n",
        "# Adam optimizer with default params\n",
        "optimizer = optim.Adam(capsule_net.parameters())"
      ],
      "metadata": {
        "id": "WmTrhpwTgEoO"
      },
      "execution_count": 20,
      "outputs": []
    },
    {
      "cell_type": "code",
      "source": [
        "def train(capsule_net,criterion,optimizer,n_epochs,print_every=300):\n",
        "  losses=[]\n",
        "  for epoch in range(1,n_epochs+1):\n",
        "    train_loss=0\n",
        "    #set to train mode\n",
        "    capsule_net.train()\n",
        "    #get batches of training image data and targets\n",
        "    for batch_i,(images,target) in enumerate(train_loader):\n",
        "      #reshape and get target class\n",
        "      target=torch.eye(10).index_select(dim=0,index=target)\n",
        "      optimizer.zero_grad()\n",
        "      caps_output,reconstructions,y=capsule_net(images)\n",
        "      loss=criterion(caps_output,target,images,reconstructions)\n",
        "      loss.backward()\n",
        "      optimizer.step()\n",
        "      train_loss+=loss.item()\n",
        "\n",
        "      #print training stats\n",
        "      if batch_i!=0 and batch_i %print_every==0:\n",
        "        avg_train_loss=train_loss/print_every\n",
        "        losses.append(avg_train_loss)\n",
        "        print('epoch: {}\\tTraining loss:{:.8f}'.format(epoch,avg_train_loss))\n",
        "        train_loss=0\n",
        "  return losses\n"
      ],
      "metadata": {
        "id": "ufziER2hf9I_"
      },
      "execution_count": 21,
      "outputs": []
    },
    {
      "cell_type": "code",
      "source": [
        "n_epochs=5\n",
        "losses=train(capsule_net,criterion,optimizer,n_epochs=n_epochs)"
      ],
      "metadata": {
        "colab": {
          "base_uri": "https://localhost:8080/"
        },
        "id": "5xnQEOOClXE2",
        "outputId": "84c5297f-4c5f-4754-eaf8-5e1b1d9836a5"
      },
      "execution_count": 23,
      "outputs": [
        {
          "output_type": "stream",
          "name": "stdout",
          "text": [
            "epoch: 1\tTraining loss:0.12228379\n",
            "epoch: 1\tTraining loss:0.12002343\n",
            "epoch: 1\tTraining loss:0.11857985\n",
            "epoch: 1\tTraining loss:0.09796197\n",
            "epoch: 1\tTraining loss:0.10055489\n",
            "epoch: 1\tTraining loss:0.09307893\n",
            "epoch: 1\tTraining loss:0.08876948\n",
            "epoch: 1\tTraining loss:0.08709361\n",
            "epoch: 1\tTraining loss:0.08528363\n",
            "epoch: 2\tTraining loss:0.07078079\n",
            "epoch: 2\tTraining loss:0.07331999\n",
            "epoch: 2\tTraining loss:0.07450242\n",
            "epoch: 2\tTraining loss:0.06612161\n",
            "epoch: 2\tTraining loss:0.06947752\n",
            "epoch: 2\tTraining loss:0.06608012\n",
            "epoch: 2\tTraining loss:0.06545917\n",
            "epoch: 2\tTraining loss:0.06513359\n",
            "epoch: 2\tTraining loss:0.06372829\n",
            "epoch: 3\tTraining loss:0.05606408\n",
            "epoch: 3\tTraining loss:0.05799456\n",
            "epoch: 3\tTraining loss:0.05809744\n",
            "epoch: 3\tTraining loss:0.05289580\n",
            "epoch: 3\tTraining loss:0.05583488\n",
            "epoch: 3\tTraining loss:0.05335423\n",
            "epoch: 3\tTraining loss:0.05367233\n",
            "epoch: 3\tTraining loss:0.05388024\n",
            "epoch: 3\tTraining loss:0.05261454\n",
            "epoch: 4\tTraining loss:0.04737041\n",
            "epoch: 4\tTraining loss:0.04886310\n",
            "epoch: 4\tTraining loss:0.04824588\n",
            "epoch: 4\tTraining loss:0.04423449\n",
            "epoch: 4\tTraining loss:0.04712314\n",
            "epoch: 4\tTraining loss:0.04505449\n",
            "epoch: 4\tTraining loss:0.04583581\n",
            "epoch: 4\tTraining loss:0.04580932\n",
            "epoch: 4\tTraining loss:0.04435843\n",
            "epoch: 5\tTraining loss:0.04053350\n",
            "epoch: 5\tTraining loss:0.04173151\n",
            "epoch: 5\tTraining loss:0.04139922\n",
            "epoch: 5\tTraining loss:0.03787900\n",
            "epoch: 5\tTraining loss:0.04071151\n",
            "epoch: 5\tTraining loss:0.03865319\n",
            "epoch: 5\tTraining loss:0.03964758\n",
            "epoch: 5\tTraining loss:0.03995226\n",
            "epoch: 5\tTraining loss:0.03856166\n"
          ]
        }
      ]
    },
    {
      "cell_type": "code",
      "source": [
        "import matplotlib.pyplot as plt\n",
        "%matplotlib inline\n",
        "\n",
        "plt.plot(losses)\n",
        "plt.title(\"Training Loss\")\n",
        "plt.show()"
      ],
      "metadata": {
        "colab": {
          "base_uri": "https://localhost:8080/",
          "height": 452
        },
        "id": "hdvhW4PRqHom",
        "outputId": "191da4a2-a997-477a-e015-2e11c0efea09"
      },
      "execution_count": 24,
      "outputs": [
        {
          "output_type": "display_data",
          "data": {
            "text/plain": [
              "<Figure size 640x480 with 1 Axes>"
            ],
            "image/png": "[encoded data removed]"
          },
          "metadata": {}
        }
      ]
    },
    {
      "cell_type": "code",
      "source": [
        "def test(capsule_net, test_loader):\n",
        "    '''Prints out test statistics for a given capsule net.\n",
        "       param capsule_net: trained capsule network\n",
        "       param test_loader: test dataloader\n",
        "       return: returns last batch of test image data and corresponding reconstructions\n",
        "       '''\n",
        "    class_correct = list(0. for i in range(10))\n",
        "    class_total = list(0. for i in range(10))\n",
        "\n",
        "    test_loss = 0 # loss tracking\n",
        "\n",
        "    capsule_net.eval() # eval mode\n",
        "\n",
        "    for batch_i, (images, target) in enumerate(test_loader):\n",
        "        target = torch.eye(10).index_select(dim=0, index=target)\n",
        "\n",
        "        batch_size = images.size(0)\n",
        "\n",
        "        #if TRAIN_ON_GPU:\n",
        "            #images, target = images.cuda(), target.cuda()\n",
        "\n",
        "        # forward pass: compute predicted outputs by passing inputs to the model\n",
        "        caps_output, reconstructions, y = capsule_net(images)\n",
        "        # calculate the loss\n",
        "        loss = criterion(caps_output, target, images, reconstructions)\n",
        "        # update average test loss\n",
        "        test_loss += loss.item()\n",
        "        # convert output probabilities to predicted class\n",
        "        _, pred = torch.max(y.data.cpu(), 1)\n",
        "        _, target_shape = torch.max(target.data.cpu(), 1)\n",
        "\n",
        "        # compare predictions to true label\n",
        "        correct = np.squeeze(pred.eq(target_shape.data.view_as(pred)))\n",
        "        # calculate test accuracy for each object class\n",
        "        for i in range(batch_size):\n",
        "            label = target_shape.data[i]\n",
        "            class_correct[label] += correct[i].item()\n",
        "            class_total[label] += 1\n",
        "\n",
        "    # avg test loss\n",
        "    avg_test_loss = test_loss/len(test_loader)\n",
        "    print('Test Loss: {:.8f}\\n'.format(avg_test_loss))\n",
        "\n",
        "    for i in range(10):\n",
        "        if class_total[i] > 0:\n",
        "            print('Test Accuracy of %5s: %2d%% (%2d/%2d)' % (\n",
        "                str(i), 100 * class_correct[i] / class_total[i],\n",
        "                np.sum(class_correct[i]), np.sum(class_total[i])))\n",
        "        else:\n",
        "            print('Test Accuracy of %5s: N/A (no training examples)' % (classes[i]))\n",
        "\n",
        "    print('\\nTest Accuracy (Overall): %2d%% (%2d/%2d)' % (\n",
        "        100. * np.sum(class_correct) / np.sum(class_total),\n",
        "        np.sum(class_correct), np.sum(class_total)))\n",
        "\n",
        "    # return last batch of capsule vectors, images, reconstructions\n",
        "    return caps_output, images, reconstructions"
      ],
      "metadata": {
        "id": "2VDHrOo0clHa"
      },
      "execution_count": 25,
      "outputs": []
    },
    {
      "cell_type": "code",
      "source": [
        "import numpy as np"
      ],
      "metadata": {
        "id": "a5CiWuVRczMg"
      },
      "execution_count": 27,
      "outputs": []
    },
    {
      "cell_type": "code",
      "source": [
        "caps_output, images, reconstructions = test(capsule_net, test_loader)"
      ],
      "metadata": {
        "colab": {
          "base_uri": "https://localhost:8080/"
        },
        "id": "VyBWB5vgc3mV",
        "outputId": "f58eaa31-cc94-4c61-8067-b82a7d3d03bf"
      },
      "execution_count": 28,
      "outputs": [
        {
          "output_type": "stream",
          "name": "stdout",
          "text": [
            "Test Loss: 0.05153964\n",
            "\n",
            "Test Accuracy of     0: 99% (977/980)\n",
            "Test Accuracy of     1: 99% (1132/1135)\n",
            "Test Accuracy of     2: 99% (1024/1032)\n",
            "Test Accuracy of     3: 99% (1001/1010)\n",
            "Test Accuracy of     4: 98% (970/982)\n",
            "Test Accuracy of     5: 99% (887/892)\n",
            "Test Accuracy of     6: 98% (948/958)\n",
            "Test Accuracy of     7: 98% (1017/1028)\n",
            "Test Accuracy of     8: 98% (961/974)\n",
            "Test Accuracy of     9: 98% (992/1009)\n",
            "\n",
            "Test Accuracy (Overall): 99% (9909/10000)\n"
          ]
        }
      ]
    },
    {
      "cell_type": "code",
      "source": [],
      "metadata": {
        "id": "pvfqYniuc98a"
      },
      "execution_count": null,
      "outputs": []
    }
  ]
}